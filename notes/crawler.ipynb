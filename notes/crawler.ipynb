{
 "cells": [
  {
   "cell_type": "markdown",
   "metadata": {},
   "source": [
    "# Data Structure\n",
    "\n",
    "fetched: map[string]bool --> url: visited or not \n",
    "\n",
    "Fetch: map[string][]string --> url: slice of neighbor urls"
   ]
  },
  {
   "cell_type": "markdown",
   "metadata": {},
   "source": [
    "# Serial DFS"
   ]
  },
  {
   "cell_type": "code",
   "execution_count": null,
   "metadata": {
    "vscode": {
     "languageId": "go"
    }
   },
   "outputs": [],
   "source": [
    "func Serial(url string, fetcher Fetcher, fetched map[string]bool) {\n",
    "\tif fetched[url] {\n",
    "\t\treturn\n",
    "\t}\n",
    "\tfetched[url] = true\n",
    "\turls, err := fetcher.Fetch(url)\n",
    "\tif err != nil {\n",
    "\t\treturn\n",
    "\t}\n",
    "\tfor _, u := range urls {\n",
    "\t\tSerial(u, fetcher, fetched)\n",
    "\t}\n",
    "\treturn\n",
    "}"
   ]
  },
  {
   "cell_type": "markdown",
   "metadata": {},
   "source": [
    "# Concurrent DFS"
   ]
  },
  {
   "cell_type": "code",
   "execution_count": null,
   "metadata": {
    "vscode": {
     "languageId": "go"
    }
   },
   "outputs": [],
   "source": [
    "type fetchState struct {\n",
    "\tmu      sync.Mutex\n",
    "\tfetched map[string]bool\n",
    "}\n",
    "\n",
    "func ConcurrentMutex(url string, fetcher Fetcher, f *fetchState) {\n",
    "\tf.mu.Lock()\n",
    "\talready := f.fetched[url]\n",
    "\tf.fetched[url] = true\n",
    "\tf.mu.Unlock()\n",
    "\n",
    "\tif already {\n",
    "\t\treturn\n",
    "\t}\n",
    "\n",
    "\turls, err := fetcher.Fetch(url)\n",
    "\tif err != nil {\n",
    "\t\treturn\n",
    "\t}\n",
    "\tvar done sync.WaitGroup\n",
    "\tfor _, u := range urls {\n",
    "\t\tdone.Add(1)\n",
    "\t\t//u2 := u\n",
    "\t\t//go func() {\n",
    "\t\t// defer done.Done()\n",
    "\t\t// ConcurrentMutex(u2, fetcher, f)\n",
    "\t\t//}()\n",
    "\t\tgo func(u string) {\n",
    "\t\t\tdefer done.Done()\n",
    "\t\t\tConcurrentMutex(u, fetcher, f)\n",
    "\t\t}(u)\n",
    "\t}\n",
    "\tdone.Wait()\n",
    "\treturn\n",
    "}"
   ]
  },
  {
   "cell_type": "markdown",
   "metadata": {},
   "source": [
    "# Channel"
   ]
  },
  {
   "cell_type": "code",
   "execution_count": null,
   "metadata": {
    "vscode": {
     "languageId": "go"
    }
   },
   "outputs": [],
   "source": [
    "func worker(url string, ch chan []string, fetcher Fetcher) {\n",
    "\turls, err := fetcher.Fetch(url)\n",
    "\tif err != nil {\n",
    "\t\tch <- []string{}\n",
    "\t} else {\n",
    "\t\tch <- urls\n",
    "\t}\n",
    "}\n",
    "\n",
    "func coordinator(ch chan []string, fetcher Fetcher) {\n",
    "\tn := 1\n",
    "\tfetched := make(map[string]bool)\n",
    "\tfor urls := range ch {\n",
    "\t\tn -= 1\n",
    "\t\tfor _, u := range urls {\n",
    "\t\t\tif fetched[u] == false {\n",
    "\t\t\t\tfetched[u] = true\n",
    "\t\t\t\tn += 1\n",
    "\t\t\t\tgo worker(u, ch, fetcher)\n",
    "\t\t\t}\n",
    "\t\t}\n",
    "\t\tif n == 0 {\n",
    "\t\t\tbreak\n",
    "\t\t}\n",
    "\t}\n",
    "}\n",
    "\n",
    "func ConcurrentChannel(url string, fetcher Fetcher) {\n",
    "\tch := make(chan []string)\n",
    "\tgo func() {\n",
    "\t\tch <- []string{url}\n",
    "\t}()\n",
    "\tcoordinator(ch, fetcher)\n",
    "}"
   ]
  }
 ],
 "metadata": {
  "language_info": {
   "name": "python"
  },
  "orig_nbformat": 4
 },
 "nbformat": 4,
 "nbformat_minor": 2
}
