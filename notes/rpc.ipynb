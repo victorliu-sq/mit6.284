{
 "cells": [
  {
   "cell_type": "markdown",
   "metadata": {},
   "source": [
    "# Request Struct and Response Struct for fi"
   ]
  },
  {
   "cell_type": "code",
   "execution_count": null,
   "metadata": {
    "vscode": {
     "languageId": "go"
    }
   },
   "outputs": [],
   "source": [
    "// Result message\n",
    "const (\n",
    "\tOK       = \"OK\"\n",
    "\tErrNoKey = \"ErrNoKey\"\n",
    ")\n",
    "\n",
    "type Err string\n",
    "\n",
    "// struct of put\n",
    "type PutReq struct {\n",
    "\tKey   string\n",
    "\tValue string\n",
    "}\n",
    "\n",
    "type PutResp struct {\n",
    "\tErr Err\n",
    "}\n",
    "\n",
    "// struct of get\n",
    "type GetReq struct {\n",
    "\tKey string\n",
    "}\n",
    "\n",
    "type GetResp struct {\n",
    "\tErr   Err\n",
    "\tValue string\n",
    "}"
   ]
  },
  {
   "cell_type": "markdown",
   "metadata": {},
   "source": [
    "# Client: fi, rpc_client"
   ]
  },
  {
   "cell_type": "code",
   "execution_count": null,
   "metadata": {
    "vscode": {
     "languageId": "go"
    }
   },
   "outputs": [],
   "source": [
    "func get(key string) string {\n",
    "\t// Dial\n",
    "\trpc_client, err := rpc.Dial(\"tcp\", \":1234\")\n",
    "\tif err != nil {\n",
    "\t\tlog.Fatal(\"dialing:\", err)\n",
    "\t}\n",
    "\n",
    "\t// Get req and resp\n",
    "\treq := GetReq{key}\n",
    "\tresp := GetResp{}\n",
    "\n",
    "\t// Call (waiting for serveConn)\n",
    "\terr2 := rpc_client.Call(\"KV.Get\", &req, &resp)\n",
    "\tif err2 != nil {\n",
    "\t\tlog.Fatal(\"error:\", err)\n",
    "\t}\n",
    "\n",
    "\t// Close\n",
    "\trpc_client.Close()\n",
    "\treturn resp.Value\n",
    "}\n",
    "\n",
    "func put(key string, val string) {\n",
    "\trpc_client, err := rpc.Dial(\"tcp\", \":1234\")\n",
    "\tif err != nil {\n",
    "\t\tlog.Fatal(\"dialing:\", err)\n",
    "\t}\n",
    "\treq := PutReq{key, val}\n",
    "\tresp := PutResp{}\n",
    "\terr2 := rpc_client.Call(\"KV.Put\", &req, &resp)\n",
    "\tif err2 != nil {\n",
    "\t\tlog.Fatal(\"error:\", err)\n",
    "\t}\n",
    "\trpc_client.Close()\n",
    "}"
   ]
  },
  {
   "cell_type": "markdown",
   "metadata": {},
   "source": [
    "# Server: Fi, rpc_server, kv, listener"
   ]
  },
  {
   "cell_type": "code",
   "execution_count": null,
   "metadata": {
    "vscode": {
     "languageId": "go"
    }
   },
   "outputs": [],
   "source": [
    "type KV struct {\n",
    "\tmu   sync.Mutex\n",
    "\tdata map[string]string\n",
    "}\n",
    "\n",
    "func server() {\n",
    "\t// Create a new KV -- kv\n",
    "\tkv := KV{}\n",
    "\tkv.data = map[string]string{}\n",
    "\n",
    "\t// Create a new rpc_server and register methods for kv\n",
    "\trpcs := rpc.NewServer()\n",
    "\trpcs.Register(kv)\n",
    "\n",
    "\t// Create a new listener\n",
    "\tl, e := net.Listen(\"tcp\", \":1234\")\n",
    "\tif e != nil {\n",
    "\t\tlog.Fatal(\"listen error:\", e)\n",
    "\t}\n",
    "\n",
    "\t// This go func() is to make clients, which run after the server() in main(), run\n",
    "\t// we can ignore it when running client and server in different process\n",
    "\tgo func() {\n",
    "\t\tfor {\n",
    "\t\t\t// Accept (blocked and waiting for Dial)\n",
    "\t\t\tconn, err := l.Accept()\n",
    "\t\t\tif err == nil {\n",
    "\t\t\t\t// create a new thread to serve the connection (blocked and waiting for rpc_client.Call)\n",
    "\t\t\t\tgo rpcs.ServeConn(conn)\n",
    "\t\t\t} else {\n",
    "\t\t\t\tbreak\n",
    "\t\t\t}\n",
    "\t\t}\n",
    "\t\tl.Close()\n",
    "\t}()\n",
    "}\n",
    "\n",
    "func (kv KV) Get(req *GetReq, resp *GetResp) error {\n",
    "\tkv.mu.Lock()\n",
    "\tdefer kv.mu.Unlock()\n",
    "\n",
    "\t// req -> args\n",
    "\t// f(args) -> res\n",
    "\tval, ok := kv.data[req.Key] // found or not\n",
    "\t// res -> resp\n",
    "\tif ok {\n",
    "\t\tresp.Err = OK\n",
    "\t\tresp.Value = val\n",
    "\t} else {\n",
    "\t\tresp.Err = ErrNoKey\n",
    "\t\tresp.Value = \"\"\n",
    "\t}\n",
    "\treturn nil\n",
    "}\n",
    "\n",
    "func (kv KV) Put(req *PutReq, resp *PutResp) error {\n",
    "\tkv.mu.Lock()\n",
    "\tdefer kv.mu.Unlock()\n",
    "\n",
    "\tkv.data[req.Key] = req.Value\n",
    "\tresp.Err = OK\n",
    "\treturn nil\n",
    "}"
   ]
  }
 ],
 "metadata": {
  "language_info": {
   "name": "python"
  },
  "orig_nbformat": 4
 },
 "nbformat": 4,
 "nbformat_minor": 2
}
