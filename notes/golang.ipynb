{
 "cells": [
  {
   "cell_type": "markdown",
   "metadata": {},
   "source": [
    "# Primitive variables and Print"
   ]
  },
  {
   "cell_type": "code",
   "execution_count": null,
   "metadata": {
    "vscode": {
     "languageId": "go"
    }
   },
   "outputs": [],
   "source": [
    "package main // main thread will be func main\n",
    "\n",
    "import \"fmt\" // import other packages\n",
    "\n",
    "func main() {\n",
    "\t// declaration: var + name + type \n",
    "\tvar n1 int\n",
    "\tvar n2 float64\n",
    "\tvar n3 bool\n",
    "\tvar n4, n5 string\n",
    "\n",
    "\t// initialization\n",
    "\tn1 = 2\n",
    "\tn2 = 2.5\n",
    "\tn3 = true\n",
    "\tn4 = \"hello\"\n",
    "\tn5 = \"I'am victor\"\n",
    "\tfmt.Println(n1, n2, n3, n4, n5)\n",
    "}"
   ]
  },
  {
   "cell_type": "code",
   "execution_count": null,
   "metadata": {
    "vscode": {
     "languageId": "go"
    }
   },
   "outputs": [],
   "source": [
    "// definition + initialization\n",
    "func main() {\n",
    "\tn1 := 2\n",
    "\tn2 := 2.5\n",
    "\tn3 := true\n",
    "\tn4 := \"hello\"\n",
    "\n",
    "\tfmt.Println(n1, n2, n3, n4)\n",
    "}"
   ]
  },
  {
   "cell_type": "markdown",
   "metadata": {},
   "source": [
    "# function"
   ]
  },
  {
   "cell_type": "code",
   "execution_count": null,
   "metadata": {
    "vscode": {
     "languageId": "go"
    }
   },
   "outputs": [],
   "source": [
    "// traditional way\n",
    "// args + return values\n",
    "func p(x, y int) (int, int) { \n",
    "\tz := x * y\n",
    "\treturn z, -z\n",
    "}\n",
    "\n",
    "func main() {\n",
    "\tfor i := 0; i < 10; i++ {\n",
    "\t\tn1, n2 := p(i, -i)\n",
    "\t\tprintln(n1, n2)\n",
    "\t}\n",
    "}"
   ]
  },
  {
   "cell_type": "code",
   "execution_count": null,
   "metadata": {
    "vscode": {
     "languageId": "go"
    }
   },
   "outputs": [],
   "source": [
    "// creating a function inside of a function\n",
    "func main() {\n",
    "\tfor i := 0; i < 10; i++ {\n",
    "\t\t// notice this function is not declared a name\n",
    "\t\tn1, n2 := func(x, y int) (int, int) {\n",
    "\t\t\tz1, z2 := x*y, -x*y\n",
    "\t\t\treturn z1, z2\n",
    "\t\t}(i, -i) // pass in numbers\n",
    "\t\tprintln(n1, n2)\n",
    "\t}\n",
    "}"
   ]
  },
  {
   "cell_type": "markdown",
   "metadata": {},
   "source": [
    "# Struct"
   ]
  },
  {
   "cell_type": "code",
   "execution_count": null,
   "metadata": {
    "vscode": {
     "languageId": "go"
    }
   },
   "outputs": [],
   "source": [
    "package main\n",
    "\n",
    "import \"fmt\"\n",
    "\n",
    "// definition of a new struct\n",
    "// C : typedef struct {} Person\n",
    "type Person struct {\n",
    "\tname string\n",
    "\tage,id  int\n",
    "}\n",
    "\n",
    "// definition of a function\n",
    "func p(name string, age int, id int) {\n",
    "\tfmt.Println(\"name :\", name, \",age :\", age, \",id:\", age) // print line --> append \"\\n\" to end of string\n",
    "}\n",
    "\n",
    "// 3 methods of declaration + initialization\n",
    "func main() {\n",
    "\tp1 := Person{}\n",
    "\t// var p1 Person\n",
    "\n",
    "\t// := must give contents --> {}\n",
    "\t// var only need to declare\n",
    "\n",
    "\tp1.name = \"victor\"\n",
    "\tp1.age = 20\n",
    "\tp1.id = 1\n",
    "\n",
    "\tp2 := Person{name: \"mary\", age: 21, id: 2}\n",
    "\n",
    "\tp3 := Person{\"nick\", 22, 3}\n",
    "\n",
    "\tp(p1.name, p1.age, p1.id)\n",
    "\tp(p2.name, p2.age, p2.id)\n",
    "\tp(p3.name, p3.age, p3.id)\n",
    "}"
   ]
  },
  {
   "cell_type": "code",
   "execution_count": null,
   "metadata": {
    "vscode": {
     "languageId": "go"
    }
   },
   "outputs": [],
   "source": [
    "// pass by value\n",
    "package main\n",
    "\n",
    "type Person struct {\n",
    "\tid   int\n",
    "\tname string\n",
    "}\n",
    "\n",
    "func update_struct(p *Person, new_name string) {\n",
    "\t// notice in go, \"->\" and \".\" == \".\"\n",
    "\tp.name = new_name\n",
    "}\n",
    "\n",
    "func main() {\n",
    "\tp := &Person{1, \"victor\"}\n",
    "\tupdate_struct(p, \"mary\")\n",
    "\tprintln(p.name)\n",
    "}\n"
   ]
  },
  {
   "cell_type": "markdown",
   "metadata": {},
   "source": [
    "# Array"
   ]
  },
  {
   "cell_type": "code",
   "execution_count": null,
   "metadata": {
    "vscode": {
     "languageId": "go"
    }
   },
   "outputs": [],
   "source": [
    "package main\n",
    "\n",
    "type Person struct {\n",
    "\tname    string\n",
    "\tage, id int\n",
    "}\n",
    "\n",
    "func main() {\n",
    "\tpeople := [2]Person{}\n",
    "\t// var people [2]Person\n",
    "\t\n",
    "\tpeople[0] = Person{\"victor\", 22, 1}\n",
    "\tpeople[1] = Person{\"mary\", 21, 2}\n",
    "\n",
    "\t// iterate over an array\n",
    "\tfor i := 0; i < len(people); i++ {\n",
    "\t\tprintln(people[i].name)\n",
    "\t}\n",
    "\n",
    "\t// change value of array\n",
    "\tpeople[1] = Person{\"nick\", 23, 3}\n",
    "}\n"
   ]
  },
  {
   "cell_type": "markdown",
   "metadata": {},
   "source": [
    "# Map"
   ]
  },
  {
   "cell_type": "code",
   "execution_count": null,
   "metadata": {
    "vscode": {
     "languageId": "go"
    }
   },
   "outputs": [],
   "source": [
    "package main\n",
    "\n",
    "import \"fmt\"\n",
    "\n",
    "func main() {\n",
    "\t// declaration of map\n",
    "\tm := make(map[int]string)\n",
    "\t// no make --> nil map\n",
    "\n",
    "\t// add or change value\n",
    "\tm[1] = \"victor\"\n",
    "\tm[2] = \"mary\"\n",
    "\tm[3] = \"nick\"\n",
    "\n",
    "\t// iterate over map\n",
    "\tfor key, val := range m {\n",
    "\t\tfmt.Println(\"key is:\", key, \";val is \", val)\n",
    "\t}\n",
    "\n",
    "\t// delete element with specific key\n",
    "\tdelete(m, 1)\n",
    "\n",
    "\t// get length of map\n",
    "\tprintln(\"length of map is\", len(m))\n",
    "\n",
    "\t// check if key in map\n",
    "\tval, ok := m[key]\n",
    "\tif ok {\n",
    "\t\tprintln(\"found\")\n",
    "\t} else {\n",
    "\t\tprintln(\"not found\")\n",
    "\t}\n",
    "}"
   ]
  },
  {
   "cell_type": "markdown",
   "metadata": {},
   "source": [
    "var v7 map[string]int == unordered_map<string, int>* v7\n",
    "we can pass map directly into a func and it is passed by reference"
   ]
  },
  {
   "cell_type": "code",
   "execution_count": null,
   "metadata": {
    "vscode": {
     "languageId": "go"
    }
   },
   "outputs": [],
   "source": [
    "// pass by reference\n",
    "package main\n",
    "\n",
    "func update_map1(m map[int]int) {\n",
    "\tm[0] = 1\n",
    "\tm[1] = 2\n",
    "}\n",
    "\n",
    "func update_map2(m map[int]int) {\n",
    "\tdelete(m, 0)\n",
    "}\n",
    "\n",
    "func main() {\n",
    "\tm := make(map[int]int) // declare a nil map and initialize it\n",
    "\tupdate_map1(m)\n",
    "\tprintln(\"first:\")\n",
    "\tfor key, value := range m {\n",
    "\t\tprintln(key, value)\n",
    "\t}\n",
    "\n",
    "\tupdate_map2(m)\n",
    "\tprintln(\"second:\")\n",
    "\tfor key, value := range m {\n",
    "\t\tprintln(key, value)\n",
    "\t}\n",
    "}"
   ]
  },
  {
   "cell_type": "markdown",
   "metadata": {},
   "source": [
    "# Slices"
   ]
  },
  {
   "cell_type": "code",
   "execution_count": null,
   "metadata": {
    "vscode": {
     "languageId": "go"
    }
   },
   "outputs": [],
   "source": [
    "/* \n",
    "length of slice: amount of valid elements in slices --> len()\n",
    "capacity of slice: size of slice's underlying array --> cap()\n",
    "*/\n",
    "package main\n",
    "\n",
    "import \"fmt\"\n",
    "\n",
    "func main() {\n",
    "\t// declaration of slice\n",
    "\ts := []int{}\n",
    "\t// s := make([]int, 0) // with length == 0, capacity == 0\n",
    "\t// var s []int\n",
    "\n",
    "\t// add elements\n",
    "\ts = append(s, 100, 200, 300) // length += 1, capacity += 1\n",
    "\n",
    "\t// append another slice\n",
    "\ts2 := []int{400, 500, 600}\n",
    "\ts = append(s, s2...)\n",
    "\n",
    "\t// remove element(s[2]) from slice\n",
    "\ts = append(s[:2], s[3:]...)\n",
    "\n",
    "\t// iterate over slice\n",
    "\tfor idx, n := range s {\n",
    "\t\tfmt.Println(idx, n)\n",
    "\t}\n",
    "}"
   ]
  },
  {
   "cell_type": "markdown",
   "metadata": {},
   "source": [
    "in Go,  var v4 []int is approximately equal to int* v4;\n",
    "\n",
    "we can only update value if we default pass by reference\n",
    "\n",
    "It' a better choice to pass by reference manually"
   ]
  },
  {
   "cell_type": "code",
   "execution_count": null,
   "metadata": {
    "vscode": {
     "languageId": "go"
    }
   },
   "outputs": [],
   "source": [
    "// pass by value\n",
    "package main\n",
    "\n",
    "func update_slice1(s []int) {\n",
    "\ts[0] = 1\n",
    "}\n",
    "\n",
    "func update_slice2(s *[]int) {\n",
    "\t*s = append(*s, 1, 2, 3)\n",
    "}\n",
    "\n",
    "func main() {\n",
    "\ts := make([]int, 1)\n",
    "\n",
    "\tupdate_slice1(s)\n",
    "\tprintln(\"s1:\")\n",
    "\tfor _, n := range s {\n",
    "\t\tprintln(n)\n",
    "\t}\n",
    "\n",
    "\tupdate_slice2(&s)\n",
    "\tprintln(\"s2:\")\n",
    "\tfor _, n := range s {\n",
    "\t\tprintln(n)\n",
    "\t}\n",
    "}\n"
   ]
  },
  {
   "cell_type": "markdown",
   "metadata": {},
   "source": [
    "# Interface"
   ]
  },
  {
   "cell_type": "markdown",
   "metadata": {},
   "source": [
    "one concrete type + interface(a set of functions)\n",
    "\n",
    "1. define concrete type\n",
    "\n",
    "2. define each function in interface\n",
    "\n",
    "3. define interface: input and output of each function\n",
    "\n",
    "4. declare concrete type\n",
    "\n",
    "5. pass concrete type into func, accept them as interfaces and call functions in interface "
   ]
  },
  {
   "cell_type": "code",
   "execution_count": null,
   "metadata": {
    "vscode": {
     "languageId": "go"
    }
   },
   "outputs": [],
   "source": [
    "// function of interface\n",
    "// make it simpler to check key/value or get value\n",
    "\n",
    "package main\n",
    "\n",
    "// define concrete type\n",
    "type kv_map map[int]string\n",
    "\n",
    "// define function we are going to call\n",
    "func (kv kv_map) check(key int) {\n",
    "\tif val, ok := kv[key]; ok {\n",
    "\t\tprintln(\"found\", val)\n",
    "\t} else {\n",
    "\t\tprintln(\"not found\")\n",
    "\t}\n",
    "}\n",
    "\n",
    "// define the interface (a set of functions)\n",
    "type map_inter interface {\n",
    "\tcheck(key int)\n",
    "}\n",
    "\n",
    "// pass in concrete type, accept them as interfaces and call the functions\n",
    "func helper(m map_inter) {\n",
    "\tm.check(0)\n",
    "\tm.check(2)\n",
    "\tm.check(1)\n",
    "\n",
    "}\n",
    "\n",
    "func main() {\n",
    "\ta := make(kv_map)\n",
    "\ta[0] = \"kkk\"\n",
    "\ta[1] = \"aaa\"\n",
    "\n",
    "\thelper(a)\n",
    "}\n"
   ]
  },
  {
   "cell_type": "markdown",
   "metadata": {},
   "source": [
    "# Select"
   ]
  },
  {
   "cell_type": "markdown",
   "metadata": {},
   "source": [
    "we can use select to wait on multiple channels and tick of timer"
   ]
  }
 ],
 "metadata": {
  "language_info": {
   "name": "python"
  },
  "orig_nbformat": 4
 },
 "nbformat": 4,
 "nbformat_minor": 2
}
